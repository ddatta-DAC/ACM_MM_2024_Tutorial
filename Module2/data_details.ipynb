{
 "cells": [
  {
   "cell_type": "code",
   "execution_count": 6,
   "id": "6d0c2244-5ca1-4d1f-b2b3-23b0ae025d07",
   "metadata": {},
   "outputs": [],
   "source": [
    "from numpy.random import Generator\n",
    "import numpy as np"
   ]
  },
  {
   "cell_type": "code",
   "execution_count": 24,
   "id": "9f51393b-6f40-4f9e-a510-c0da4f126a79",
   "metadata": {},
   "outputs": [],
   "source": [
    "import argparse\n",
    "import os\n",
    "from time import time\n",
    "\n",
    "import evaluate\n",
    "import lightning as pl\n",
    "import numpy as np\n",
    "import pandas as pd\n",
    "import PIL\n",
    "import torch\n",
    "import torchvision\n",
    "import transformers\n",
    "from colorama import Back, Fore, Style\n",
    "from datasets import Dataset, DatasetDict, load_dataset\n",
    "from sklearn.metrics import accuracy_score, f1_score\n",
    "from torch.nn import Linear, Sequential\n",
    "from torch.nn import functional as TF\n",
    "from torch.optim import SGD, AdamW, lr_scheduler\n",
    "from torch.utils.data import DataLoader, Dataset\n",
    "from torchmetrics.classification import F1Score, MulticlassAccuracy\n",
    "from transformers import (\n",
    "    AutoModel,\n",
    "    AutoModelForSequenceClassification,\n",
    "    AutoTokenizer,\n",
    "    DataCollatorWithPadding,\n",
    "    Trainer,\n",
    "    TrainingArguments,\n",
    ")\n",
    "from pathlib import Path"
   ]
  },
  {
   "cell_type": "code",
   "execution_count": 16,
   "id": "35751392-496d-47e8-9041-17be08463d82",
   "metadata": {},
   "outputs": [],
   "source": [
    "\n",
    "def get_data(train_size=5000):\n",
    "    \"\"\"\n",
    "    Create a subset of data\n",
    "    \"\"\"\n",
    "\n",
    "    def preprocess_function(examples):\n",
    "        return tokenizer_obj(examples[\"text\"], truncation=True)\n",
    "    \n",
    "    rng = np.random.default_rng(12345)\n",
    "    val_size = train_size // 10\n",
    "    test_size = train_size // 10\n",
    "\n",
    "    dataset_dict = load_dataset(\"imdb\")\n",
    "    \n",
    "    idx = rng.choice(\n",
    "        np.arange(len(dataset_dict[\"train\"])), train_size + val_size, replace=False\n",
    "    )\n",
    "    idx_train = idx[:train_size]\n",
    "    idx_val = idx[train_size:]\n",
    "\n",
    "    train_dataset = dataset_dict[\"train\"].select(idx_train)\n",
    "    val_dataset = dataset_dict[\"train\"].select(idx_val)\n",
    "    \n",
    "    idx = rng.choice(\n",
    "        np.arange(len(dataset_dict[\"test\"])), test_size, replace=False\n",
    "    )\n",
    "    dataset_dict[\"test\"] = dataset_dict[\"test\"].select(idx)\n",
    "    dataset_dict = DatasetDict(\n",
    "        {\n",
    "            \"train\": train_dataset,\n",
    "            \"validation\": val_dataset,\n",
    "            \"test\": dataset_dict[\"test\"],\n",
    "        }\n",
    "    )\n",
    "\n",
    "    return dataset_dict"
   ]
  },
  {
   "cell_type": "markdown",
   "id": "b84a008e-c2b0-4004-9701-8a7033cdff9d",
   "metadata": {},
   "source": [
    "## Description of dataset and splits"
   ]
  },
  {
   "cell_type": "code",
   "execution_count": 35,
   "id": "e0cf7fad-1e95-42ab-96be-1874d450ff61",
   "metadata": {},
   "outputs": [
    {
     "data": {
      "text/plain": [
       "DatasetDict({\n",
       "    train: Dataset({\n",
       "        features: ['text', 'label'],\n",
       "        num_rows: 5000\n",
       "    })\n",
       "    validation: Dataset({\n",
       "        features: ['text', 'label'],\n",
       "        num_rows: 500\n",
       "    })\n",
       "    test: Dataset({\n",
       "        features: ['text', 'label'],\n",
       "        num_rows: 500\n",
       "    })\n",
       "})"
      ]
     },
     "execution_count": 35,
     "metadata": {},
     "output_type": "execute_result"
    }
   ],
   "source": [
    "data"
   ]
  },
  {
   "cell_type": "code",
   "execution_count": 34,
   "id": "8a1f8d8d-3792-4b65-8fea-f5343883b823",
   "metadata": {},
   "outputs": [],
   "source": [
    "data = get_data()"
   ]
  },
  {
   "cell_type": "markdown",
   "id": "9bfdebcd-b5be-4bb9-8821-5a235c108ca0",
   "metadata": {},
   "source": [
    "## Data samples"
   ]
  },
  {
   "cell_type": "code",
   "execution_count": 38,
   "id": "b6aad026-b155-4059-97c9-c5a57cebd358",
   "metadata": {},
   "outputs": [
    {
     "data": {
      "text/plain": [
       "{'text': \"The idea was awesome, the actors were incredible, the story could of been very scary, but the writing was poor and there was no depth. I couldn't really get into this movie. I couldn't feel for the characters, there were a lot of cliffhangers, and the movie just ends very weirdly. Was it a happy ending? I don't know. Was it a sad ending? Again, I don't know. You leave the theater feeling unsatisfied. The movie had so much to give, but couldn't. Just because you can edit, doesn't mean you should, right? I wouldn't really recommend this movie because you just can't say that you left the movie feeling like it was completed. You'll just be confused. Trust me, you will probably thank me if you don't watch this movie.<br /><br />3/10\",\n",
       " 'label': 0}"
      ]
     },
     "execution_count": 38,
     "metadata": {},
     "output_type": "execute_result"
    }
   ],
   "source": [
    "data['train'][10]"
   ]
  },
  {
   "cell_type": "code",
   "execution_count": 39,
   "id": "350e35b7-7dec-4f10-adfc-8eca44f48109",
   "metadata": {},
   "outputs": [
    {
     "data": {
      "text/plain": [
       "{'text': 'Its time to pay tribute to the great Charton Heston after his recent passing but this film is not the one. His other films of a past generation were BEN HUR, THE TEN COMMANDENTS, OMEGA MAN and PLANET OF THE APES were his better works.<br /><br />This film made in 1973 attempts to prophesies a future earth , in 2022, that is so overpopulated that the human race has been manipulated by authorities to eat a universally produced food product called \"Soylent Green\" which is manufactured with Human flesh. This bizarre and implausible film was as ridiculous at the time of its release as it is now and assumes India\\'s population which would be about 2 billion by that stage would be then meat eaters without knowing it.<br /><br />Charlton Heston\\'s character this supers secret international conspiracy that world powers have concocted to meet the nutritional demands of overpopulation by using cannibalism.<br /><br />Unfortunately for the producers of this film the Green message they deliver is not the Greens Party of today\\'s ethos thank god. Cannibalism was practiced by the indigenous populations in New Zealand , Fiji and Borneo up until only 40 years before this film was made but has been long abandoned by human civilization.<br /><br />Another silly prediction in the film is that women become quasi sex slaves turning back the tide of radical feminism which was on the rise in 1972 when this film was made.<br /><br />The film was stupid then and is as silly now but does contain a very unmemorable last film performance by the late and great Edward G. Robinson but still no a valid reason to revisit the film other than for academic reasons.<br /><br />This is a dud of a film and I wouldn\\'t even recommend it to baby boomers or Charlton Heston fans. All the other reviews of this film I have read all sound the same referring to a dystopian society in the future of which the centralised theme only seems to involve the USA in which an ecological disaster has occurred.<br /><br />The only merit in the film is that earth does face overpopulation.',\n",
       " 'label': 1}"
      ]
     },
     "execution_count": 39,
     "metadata": {},
     "output_type": "execute_result"
    }
   ],
   "source": [
    "data['train'][100]"
   ]
  },
  {
   "cell_type": "code",
   "execution_count": null,
   "id": "d3346cc9-3eaf-4f29-92af-3fea9caa836c",
   "metadata": {},
   "outputs": [],
   "source": []
  }
 ],
 "metadata": {
  "kernelspec": {
   "display_name": "Python 3 (ipykernel)",
   "language": "python",
   "name": "python3"
  },
  "language_info": {
   "codemirror_mode": {
    "name": "ipython",
    "version": 3
   },
   "file_extension": ".py",
   "mimetype": "text/x-python",
   "name": "python",
   "nbconvert_exporter": "python",
   "pygments_lexer": "ipython3",
   "version": "3.9.18"
  }
 },
 "nbformat": 4,
 "nbformat_minor": 5
}
